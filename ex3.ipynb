{
 "cells": [
  {
   "cell_type": "code",
   "execution_count": 1,
   "metadata": {},
   "outputs": [
    {
     "name": "stdout",
     "output_type": "stream",
     "text": [
      "Populating the interactive namespace from numpy and matplotlib\n"
     ]
    }
   ],
   "source": [
    "from collections import defaultdict, Counter, OrderedDict\n",
    "\n",
    "import nltk\n",
    "import seaborn as sns\n",
    "import os\n",
    "import re\n",
    "from gensim import corpora, models, similarities\n",
    "from nltk.tokenize import RegexpTokenizer\n",
    "from nltk.corpus import stopwords\n",
    "from nltk.corpus import gutenberg\n",
    "from nltk.tokenize import WordPunctTokenizer\n",
    "from nltk.probability import FreqDist\n",
    "from nltk.stem.snowball import PortugueseStemmer\n",
    "import string\n",
    "from string import punctuation\n",
    "from pprint import pprint\n",
    "from collections import Counter\n",
    "from collections import defaultdict\n",
    "import numpy as np\n",
    "import math\n",
    "from gensim.summarization.bm25 import BM25 \n",
    "%pylab inline"
   ]
  },
  {
   "cell_type": "markdown",
   "metadata": {},
   "source": [
    "## Exercício 1\n",
    "A partir de um corpus à sua escolha, estime um modelo de assuntos baseado no Modelo LSI. Uma vez calculado o modelo, defina um conjunto de documentos relevantes (${\\cal R}$) para um assunto, como os $n$ documentos que contiverem em sua representação LSI, os maiores coeficientes para o assunto escolhido. Construa uma consulta $q$, com as dez palavras mais importantes do assunto escolhido."
   ]
  },
  {
   "cell_type": "code",
   "execution_count": 2,
   "metadata": {},
   "outputs": [],
   "source": [
    "textos = []\n",
    "for p, d, f in os.walk(r'machado/machado'):\n",
    "    #print( p,d,f)\n",
    "    if f:\n",
    "        for fileid  in f:\n",
    "            if not fileid.endswith('.txt'):\n",
    "                continue\n",
    "            with open(os.path.join(p,fileid), encoding='iso-8859-1') as g:\n",
    "                textos.append(g.read())\n",
    "#textos = textos[:20]"
   ]
  },
  {
   "cell_type": "code",
   "execution_count": 3,
   "metadata": {},
   "outputs": [],
   "source": [
    "wrong_symbols = [\"\", \"\\x97\", \"é\", \"ser\", \"\\x93\", \"\\x94\", \"--\", \"...\"]\n",
    "swu = stopwords.words('portuguese') + list (string.punctuation) + wrong_symbols\n",
    "stemmer = PortugueseStemmer()\n",
    "tok_textos = [WordPunctTokenizer().tokenize(t.lower()) for t in textos]"
   ]
  },
  {
   "cell_type": "code",
   "execution_count": 4,
   "metadata": {},
   "outputs": [],
   "source": [
    "def clean_sentence(texto : str):\n",
    "    return [stemmer.stem(token.lower()) for token in WordPunctTokenizer().tokenize(texto) if token not in swu]\n",
    "textos_limpos = [*map(clean_sentence,textos)]"
   ]
  },
  {
   "cell_type": "code",
   "execution_count": 5,
   "metadata": {},
   "outputs": [],
   "source": [
    "dicionario = corpora.Dictionary(textos_limpos)\n",
    "corpus = [dicionario.doc2bow(d) for d in textos_limpos]\n",
    "corpora.MmCorpus.serialize('machado.mm', corpus)\n",
    "lsi = models.LsiModel(corpus, id2word=dicionario, num_topics=5) "
   ]
  },
  {
   "cell_type": "code",
   "execution_count": 6,
   "metadata": {},
   "outputs": [
    {
     "data": {
      "text/plain": [
       "[(0,\n",
       "  '0.265*\"outr\" + 0.222*\"a\" + 0.214*\"nã\" + 0.201*\"o\" + 0.184*\"tod\" + 0.183*\"pod\" + 0.152*\"cas\" + 0.142*\"diz\" + 0.119*\"algum\" + 0.119*\"diss\"'),\n",
       " (1,\n",
       "  '-0.296*\"gilliatt\" + -0.256*\"diss\" + -0.220*\"mar\" + -0.220*\"o\" + 0.207*\"outr\" + -0.142*\"a\" + -0.127*\"era\" + -0.113*\"capítul\" + 0.113*\"pod\" + -0.110*\"lethierry\"'),\n",
       " (2,\n",
       "  '-0.321*\"diss\" + 0.282*\"gilliatt\" + 0.261*\"o\" + 0.187*\"a\" + -0.142*\"mã\" + -0.133*\"d\" + -0.129*\"cas\" + 0.123*\"águ\" + -0.122*\"olhos\" + -0.114*\"rubiã\"'),\n",
       " (3,\n",
       "  '0.428*\"sr\" + 0.391*\"oliv\" + 0.321*\"diss\" + -0.210*\"rubiã\" + -0.196*\"mar\" + 0.158*\"jud\" + 0.139*\"sik\" + 0.131*\"bumbl\" + 0.130*\"o\" + -0.108*\"sof\"'),\n",
       " (4,\n",
       "  '0.313*\"rubiã\" + 0.221*\"oliv\" + -0.218*\"helen\" + -0.206*\"estáci\" + -0.182*\"a\" + -0.168*\"jorg\" + 0.159*\"mar\" + 0.153*\"sof\" + -0.150*\"moc\" + -0.147*\"coraçã\"')]"
      ]
     },
     "execution_count": 6,
     "metadata": {},
     "output_type": "execute_result"
    }
   ],
   "source": [
    "lsi.show_topics() "
   ]
  },
  {
   "cell_type": "code",
   "execution_count": 7,
   "metadata": {},
   "outputs": [
    {
     "data": {
      "text/plain": [
       "[(232, 5171.286837587335),\n",
       " (210, 2167.8992126445182),\n",
       " (204, 1618.6188689714834),\n",
       " (202, 1536.0785187410888),\n",
       " (207, 1375.3599139114417),\n",
       " (230, 1299.989787555547),\n",
       " (201, 1163.1231753226741),\n",
       " (181, 1159.009605187778),\n",
       " (206, 1146.3011446363134),\n",
       " (209, 1145.5241441827798),\n",
       " (205, 1094.3474679694002),\n",
       " (199, 1093.824492313965)]"
      ]
     },
     "execution_count": 7,
     "metadata": {},
     "output_type": "execute_result"
    }
   ],
   "source": [
    "first_topic = [doc[0][1] for doc in lsi[corpus]]\n",
    "relevant_topic = sorted(((it, i) for i,it in enumerate(first_topic)), reverse = True)\n",
    "relevant_topic = [(i,it) for it, i in relevant_topic][:12]\n",
    "relevant_topic"
   ]
  },
  {
   "cell_type": "code",
   "execution_count": 8,
   "metadata": {},
   "outputs": [
    {
     "data": {
      "text/plain": [
       "'0.265*\"outr\" + 0.222*\"a\" + 0.214*\"nã\" + 0.201*\"o\" + 0.184*\"tod\" + 0.183*\"pod\" + 0.152*\"cas\" + 0.142*\"diz\" + 0.119*\"algum\" + 0.119*\"diss\"'"
      ]
     },
     "execution_count": 8,
     "metadata": {},
     "output_type": "execute_result"
    }
   ],
   "source": [
    "lsi.print_topic(0,10) "
   ]
  },
  {
   "cell_type": "code",
   "execution_count": 9,
   "metadata": {},
   "outputs": [
    {
     "data": {
      "text/plain": [
       "[(0, 0.11292777749650365),\n",
       " (1, -0.055610302976167265),\n",
       " (2, -0.06659840225617694),\n",
       " (3, -0.016237808781098935),\n",
       " (4, -0.1492747332329445)]"
      ]
     },
     "execution_count": 9,
     "metadata": {},
     "output_type": "execute_result"
    }
   ],
   "source": [
    "query = \"Joao e Maria amor\"\n",
    "query_bow = dicionario.doc2bow(query.lower().split())\n",
    "query_lsi = lsi[query_bow] \n",
    "query_lsi"
   ]
  },
  {
   "cell_type": "markdown",
   "metadata": {},
   "source": [
    "## Exercício 2\n",
    "Reutilizando os índices invertidos construídos em exercícios anteriores(Booleano, e TFIDF), calcule a precisão e revocação  com a consulta $q$ e o conjunto relevante ${\\cal R}$ definidos no exercício anterior."
   ]
  },
  {
   "cell_type": "code",
   "execution_count": 10,
   "metadata": {},
   "outputs": [],
   "source": [
    "voc = set()\n",
    "for text in textos_limpos:\n",
    "    for word in text:\n",
    "        voc.add(word)"
   ]
  },
  {
   "cell_type": "markdown",
   "metadata": {},
   "source": [
    "### Consulta booleana"
   ]
  },
  {
   "cell_type": "code",
   "execution_count": 11,
   "metadata": {},
   "outputs": [],
   "source": [
    "tok_textos = [WordPunctTokenizer().tokenize(t.lower()) for t in textos]\n",
    "binary_matrix = np.zeros((len(tok_textos),len(query)))\n",
    "for j, word in enumerate(query):\n",
    "    for i, d in enumerate(tok_textos):\n",
    "        binary_matrix[i,j] = int(word in d)"
   ]
  },
  {
   "cell_type": "code",
   "execution_count": 12,
   "metadata": {},
   "outputs": [],
   "source": [
    "T = nltk.TextCollection(tok_textos)\n",
    "matrix_tfidf = np.empty((len(tok_textos),len(query)))\n",
    "for j, word in enumerate(query):\n",
    "    for i, d in enumerate(tok_textos):\n",
    "        matrix_tfidf[i,j] = T.tf_idf(word,d)"
   ]
  },
  {
   "cell_type": "code",
   "execution_count": 13,
   "metadata": {},
   "outputs": [
    {
     "data": {
      "text/plain": [
       "OrderedDict([(245, 0.03409090909090909),\n",
       "             (195, 0.02097902097902098),\n",
       "             (243, 0.019867549668874173),\n",
       "             (231, 0.013824884792626729),\n",
       "             (37, 0.013513513513513514),\n",
       "             (6, 0.01171875),\n",
       "             (120, 0.011363636363636364),\n",
       "             (2, 0.01090909090909091),\n",
       "             (25, 0.00997506234413965),\n",
       "             (194, 0.009925558312655087),\n",
       "             (19, 0.009852216748768473),\n",
       "             (222, 0.009230769230769232),\n",
       "             (196, 0.00911854103343465),\n",
       "             (191, 0.008982035928143712),\n",
       "             (39, 0.008281573498964804),\n",
       "             (229, 0.007894736842105263),\n",
       "             (22, 0.007653061224489796),\n",
       "             (16, 0.007537688442211055),\n",
       "             (242, 0.007407407407407408),\n",
       "             (23, 0.007058823529411765),\n",
       "             (144, 0.00702576112412178),\n",
       "             (65, 0.006944444444444444),\n",
       "             (198, 0.006825938566552901),\n",
       "             (91, 0.006787330316742082),\n",
       "             (24, 0.006772009029345372),\n",
       "             (238, 0.006756756756756757),\n",
       "             (4, 0.006734006734006734),\n",
       "             (234, 0.0066815144766146995),\n",
       "             (13, 0.006493506493506494),\n",
       "             (174, 0.0064794816414686825),\n",
       "             (18, 0.006396588486140725),\n",
       "             (14, 0.006329113924050633),\n",
       "             (48, 0.00625),\n",
       "             (12, 0.006060606060606061),\n",
       "             (88, 0.006036217303822937),\n",
       "             (0, 0.0058823529411764705),\n",
       "             (30, 0.005859375),\n",
       "             (38, 0.005797101449275362),\n",
       "             (190, 0.0057692307692307696),\n",
       "             (1, 0.005703422053231939),\n",
       "             (33, 0.005532503457814661),\n",
       "             (7, 0.0055248618784530384),\n",
       "             (189, 0.005454545454545455),\n",
       "             (9, 0.005398110661268556),\n",
       "             (122, 0.005291005291005291),\n",
       "             (81, 0.005199306759098787),\n",
       "             (110, 0.0051813471502590676),\n",
       "             (44, 0.005148005148005148),\n",
       "             (177, 0.005145797598627788),\n",
       "             (237, 0.0050200803212851405),\n",
       "             (60, 0.005),\n",
       "             (221, 0.00487012987012987),\n",
       "             (50, 0.004846526655896607),\n",
       "             (128, 0.004830917874396135),\n",
       "             (70, 0.004816955684007707),\n",
       "             (90, 0.004746835443037975),\n",
       "             (64, 0.0044943820224719105),\n",
       "             (117, 0.004484304932735426),\n",
       "             (75, 0.004470938897168405),\n",
       "             (71, 0.004373177842565598),\n",
       "             (87, 0.004366812227074236),\n",
       "             (193, 0.00436046511627907),\n",
       "             (29, 0.004291845493562232),\n",
       "             (197, 0.004291845493562232),\n",
       "             (167, 0.004282655246252677),\n",
       "             (173, 0.004195804195804196),\n",
       "             (27, 0.004160887656033287),\n",
       "             (11, 0.004132231404958678),\n",
       "             (28, 0.004106776180698152),\n",
       "             (8, 0.004098360655737705),\n",
       "             (98, 0.004026845637583893),\n",
       "             (175, 0.0039100684261974585),\n",
       "             (132, 0.003896103896103896),\n",
       "             (36, 0.0038240917782026767),\n",
       "             (143, 0.0038071065989847717),\n",
       "             (40, 0.0038022813688212928),\n",
       "             (58, 0.003740648379052369),\n",
       "             (83, 0.0037359900373599006),\n",
       "             (15, 0.003589375448671931),\n",
       "             (41, 0.0035629453681710215),\n",
       "             (225, 0.0035310734463276836),\n",
       "             (3, 0.003468208092485549),\n",
       "             (169, 0.003418803418803419),\n",
       "             (34, 0.003355704697986577),\n",
       "             (142, 0.003355704697986577),\n",
       "             (68, 0.0032404406999351912),\n",
       "             (150, 0.0032102728731942215),\n",
       "             (240, 0.0031847133757961785),\n",
       "             (214, 0.003142183817753339),\n",
       "             (145, 0.003134796238244514),\n",
       "             (112, 0.0030840400925212026),\n",
       "             (123, 0.003080082135523614),\n",
       "             (138, 0.0030737704918032786),\n",
       "             (163, 0.0030581039755351682),\n",
       "             (220, 0.0030165912518853697),\n",
       "             (139, 0.0029806259314456036),\n",
       "             (5, 0.002936857562408223),\n",
       "             (102, 0.002932551319648094),\n",
       "             (217, 0.002896451846488052),\n",
       "             (63, 0.0028530670470756064),\n",
       "             (106, 0.0028462998102466793),\n",
       "             (45, 0.0027881040892193307),\n",
       "             (192, 0.002775850104094379),\n",
       "             (42, 0.002711864406779661),\n",
       "             (84, 0.002708192281651997),\n",
       "             (103, 0.002705139765554554),\n",
       "             (130, 0.0026954177897574125),\n",
       "             (80, 0.002680965147453083),\n",
       "             (59, 0.0026714158504007124),\n",
       "             (158, 0.0026666666666666666),\n",
       "             (51, 0.0026613439787092482),\n",
       "             (46, 0.0026292725679228747),\n",
       "             (152, 0.002617801047120419),\n",
       "             (21, 0.0026155187445510027),\n",
       "             (218, 0.0026041666666666665),\n",
       "             (95, 0.0025996533795493936),\n",
       "             (96, 0.002575107296137339),\n",
       "             (126, 0.002575107296137339),\n",
       "             (211, 0.0025471217524197657),\n",
       "             (154, 0.002529510961214165),\n",
       "             (170, 0.0025220680958385876),\n",
       "             (228, 0.002520478890989288),\n",
       "             (32, 0.0025078369905956114),\n",
       "             (156, 0.0025),\n",
       "             (17, 0.0024984384759525295),\n",
       "             (219, 0.0024968789013732834),\n",
       "             (94, 0.0024958402662229617),\n",
       "             (77, 0.0024691358024691358),\n",
       "             (105, 0.0024489795918367346),\n",
       "             (168, 0.0024174053182917004),\n",
       "             (161, 0.002411575562700965),\n",
       "             (157, 0.0024096385542168677),\n",
       "             (53, 0.0023995200959808036),\n",
       "             (113, 0.002369668246445498),\n",
       "             (93, 0.002338269680436477),\n",
       "             (148, 0.0023328149300155523),\n",
       "             (233, 0.002325581395348837),\n",
       "             (47, 0.0022935779816513763),\n",
       "             (160, 0.002276176024279211),\n",
       "             (111, 0.0022662889518413596),\n",
       "             (74, 0.002250562640660165),\n",
       "             (92, 0.002244668911335578),\n",
       "             (149, 0.002238805970149254),\n",
       "             (155, 0.002228826151560178),\n",
       "             (125, 0.002180232558139535),\n",
       "             (20, 0.0021727322107550242),\n",
       "             (115, 0.002152080344332855),\n",
       "             (73, 0.002145922746781116),\n",
       "             (162, 0.0021085925144965737),\n",
       "             (215, 0.0021041557075223566),\n",
       "             (213, 0.0021008403361344537),\n",
       "             (86, 0.002072538860103627),\n",
       "             (99, 0.0020470829068577278),\n",
       "             (118, 0.002036659877800407),\n",
       "             (171, 0.002027027027027027),\n",
       "             (244, 0.0020242914979757085),\n",
       "             (164, 0.002018842530282638),\n",
       "             (121, 0.0019933554817275745),\n",
       "             (114, 0.001978891820580475),\n",
       "             (212, 0.0019656019656019656),\n",
       "             (119, 0.001954397394136808),\n",
       "             (55, 0.0019455252918287938),\n",
       "             (79, 0.0019317450096587251),\n",
       "             (178, 0.0019317450096587251),\n",
       "             (107, 0.0019111323459149545),\n",
       "             (54, 0.0018709073900841909),\n",
       "             (137, 0.0018461538461538461),\n",
       "             (62, 0.001838235294117647),\n",
       "             (129, 0.0018315018315018315),\n",
       "             (61, 0.0018214936247723133),\n",
       "             (135, 0.0018124150430448573),\n",
       "             (140, 0.0018075011296882061),\n",
       "             (69, 0.0017969451931716084),\n",
       "             (172, 0.001768867924528302),\n",
       "             (141, 0.0017626321974148062),\n",
       "             (109, 0.0017523364485981308),\n",
       "             (153, 0.001750291715285881),\n",
       "             (72, 0.0017172295363480253),\n",
       "             (165, 0.0017094017094017094),\n",
       "             (101, 0.001707455890722823),\n",
       "             (133, 0.0017035775127768314),\n",
       "             (76, 0.001697792869269949),\n",
       "             (146, 0.0016797312430011197),\n",
       "             (89, 0.0016675931072818232),\n",
       "             (43, 0.0016242555495397943),\n",
       "             (108, 0.0016155088852988692),\n",
       "             (49, 0.0015991471215351812),\n",
       "             (67, 0.0015957446808510637),\n",
       "             (136, 0.0015789473684210526),\n",
       "             (104, 0.0015764582238570678),\n",
       "             (151, 0.0015625),\n",
       "             (82, 0.0015432098765432098),\n",
       "             (179, 0.0015189873417721519),\n",
       "             (85, 0.0015094339622641509),\n",
       "             (188, 0.0015054572826496049),\n",
       "             (166, 0.001486988847583643),\n",
       "             (159, 0.0014841199168892847),\n",
       "             (56, 0.0014519056261343012),\n",
       "             (186, 0.001451378809869376),\n",
       "             (147, 0.0014464802314368371),\n",
       "             (127, 0.0014423076923076924),\n",
       "             (100, 0.0014354066985645933),\n",
       "             (131, 0.001419782300047326),\n",
       "             (216, 0.0014069644741470278),\n",
       "             (180, 0.0013863216266173752),\n",
       "             (97, 0.0013501350135013501),\n",
       "             (57, 0.0012842465753424657),\n",
       "             (35, 0.0012277470841006752),\n",
       "             (239, 0.0011965300628178283),\n",
       "             (78, 0.0011489850631941786),\n",
       "             (226, 0.001142857142857143),\n",
       "             (10, 0.0011289867344058708),\n",
       "             (26, 0.0011086474501108647),\n",
       "             (227, 0.0011086474501108647),\n",
       "             (187, 0.001006238679814852),\n",
       "             (203, 0.0009903441445902451),\n",
       "             (236, 0.0009893153937475267),\n",
       "             (185, 0.000938790837401427),\n",
       "             (184, 0.0008904719501335708),\n",
       "             (183, 0.0008781558726673985),\n",
       "             (235, 0.0008720930232558139),\n",
       "             (241, 0.0008454872120059184),\n",
       "             (223, 0.0008437038599451593),\n",
       "             (134, 0.0008201763379126512),\n",
       "             (224, 0.0008159934720522236),\n",
       "             (31, 0.0008112932013629726),\n",
       "             (199, 0.0007876496534341525),\n",
       "             (182, 0.0007606008746910059),\n",
       "             (208, 0.0007049700387733521),\n",
       "             (200, 0.0006717044500419815),\n",
       "             (116, 0.0006710508656556167),\n",
       "             (209, 0.0006661337596589396),\n",
       "             (205, 0.0006203473945409429),\n",
       "             (52, 0.0005979073243647235),\n",
       "             (176, 0.0005604334018307491),\n",
       "             (202, 0.0005406574394463668),\n",
       "             (181, 0.0005341880341880342),\n",
       "             (201, 0.0005204267499349467),\n",
       "             (206, 0.0005072537283149031),\n",
       "             (230, 0.0005042864346949068),\n",
       "             (204, 0.0004950985246063966),\n",
       "             (124, 0.000467562828755114),\n",
       "             (207, 0.0004579803068468056),\n",
       "             (66, 0.00031762837480148225),\n",
       "             (210, 0.00026721891909947226),\n",
       "             (232, 0.0002496671105193076)])"
      ]
     },
     "execution_count": 13,
     "metadata": {},
     "output_type": "execute_result"
    }
   ],
   "source": [
    "jaccard = dict()\n",
    "for i, d in enumerate(tok_textos):\n",
    "    intersec_set = set(query) & set(d)\n",
    "    if intersec_set:\n",
    "        jaccard[i] = len(intersec_set)/len(set(query) | set(d))\n",
    "ordered_jaccard = OrderedDict(sorted(jaccard.items(), key=lambda k: k[1], reverse=True))\n",
    "ordered_jaccard"
   ]
  },
  {
   "cell_type": "code",
   "execution_count": 14,
   "metadata": {},
   "outputs": [],
   "source": [
    "def rev_precision(group, size=10):\n",
    "    return len(set([relevante[0] for relevante in relevant_topic]) & set(list(group)[:size]))/ size"
   ]
  },
  {
   "cell_type": "markdown",
   "metadata": {},
   "source": [
    "#### Revocação e precisão"
   ]
  },
  {
   "cell_type": "code",
   "execution_count": 15,
   "metadata": {},
   "outputs": [
    {
     "data": {
      "text/plain": [
       "0.0"
      ]
     },
     "execution_count": 15,
     "metadata": {},
     "output_type": "execute_result"
    }
   ],
   "source": [
    "rev_precision(ordered_jaccard.keys())"
   ]
  },
  {
   "cell_type": "markdown",
   "metadata": {},
   "source": [
    "### TF-IDF"
   ]
  },
  {
   "cell_type": "code",
   "execution_count": 16,
   "metadata": {},
   "outputs": [],
   "source": [
    "token_query = clean_sentence(query)\n",
    "def normalize(v):\n",
    "    if np.any(v):\n",
    "        return v/norm(v)\n",
    "    return v\n",
    "\n",
    "def ordem(q):\n",
    "    return [np.dot(normalize(q),normalize(r)) for r in matrix_tfidf]\n",
    "\n",
    "v = np.array([T.tf_idf(word, token_query) for word in query])\n",
    "r = ordem(v)\n",
    "tfidf = dict((i,it) for i,it in enumerate(r[:len(tok_textos)]) if it != 0)\n",
    "\n",
    "tfidf_sorted = OrderedDict(sorted(tfidf.items(), key=lambda v: v[1], reverse = True))"
   ]
  },
  {
   "cell_type": "markdown",
   "metadata": {},
   "source": [
    "#### Revocação e precisão"
   ]
  },
  {
   "cell_type": "code",
   "execution_count": 17,
   "metadata": {},
   "outputs": [
    {
     "data": {
      "text/plain": [
       "0.0"
      ]
     },
     "execution_count": 17,
     "metadata": {},
     "output_type": "execute_result"
    }
   ],
   "source": [
    "rev_precision(tfidf_sorted.keys())"
   ]
  },
  {
   "cell_type": "markdown",
   "metadata": {},
   "source": [
    "## Exercício 3\n",
    "Usando as definições de probabilidade de relevância apresentadas no capítulo 11 do Livro, construa uma função de recuperação probabilística usando o log da razão de Odds como RSV (retrieval status value). Calcule revocação e precisão para consulta $q$ e conjunto relevante ${\\cal R}$. Compare a probabilidade $p_t=P(x_t=1|R=1,q)$, com a o rankeamento de importância das palavras que compõem o assunto escolhido."
   ]
  },
  {
   "cell_type": "code",
   "execution_count": 18,
   "metadata": {},
   "outputs": [],
   "source": [
    "machado_gramatica = nltk.ConditionalFreqDist(nltk.bigrams(voc))\n",
    "machado_gramatica_copia = nltk.ConditionalProbDist(machado_gramatica, nltk.MLEProbDist)"
   ]
  },
  {
   "cell_type": "code",
   "execution_count": 19,
   "metadata": {},
   "outputs": [
    {
     "data": {
      "text/plain": [
       "dict_keys([])"
      ]
     },
     "execution_count": 19,
     "metadata": {},
     "output_type": "execute_result"
    }
   ],
   "source": [
    "join_query = ' '.join(token_query)\n",
    "cps = machado_gramatica_copia[join_query]\n",
    "cps.samples()"
   ]
  },
  {
   "cell_type": "markdown",
   "metadata": {},
   "source": [
    "## Exercício 4:\n",
    "Repita o exercício 3 agora usando o modelo Okapi BM25 para o rankeamento. Calcule precisão e revocação."
   ]
  },
  {
   "cell_type": "code",
   "execution_count": 20,
   "metadata": {},
   "outputs": [
    {
     "data": {
      "text/plain": [
       "3.879946966825389"
      ]
     },
     "execution_count": 20,
     "metadata": {},
     "output_type": "execute_result"
    }
   ],
   "source": [
    "bm_25 = BM25(textos_limpos)\n",
    "average_idf = sum(float(bm_25.idf[key]) for key in bm_25.idf.keys()) / len(bm_25.idf)\n",
    "average_idf"
   ]
  },
  {
   "cell_type": "code",
   "execution_count": 21,
   "metadata": {},
   "outputs": [],
   "source": [
    "scores = bm_25.get_scores(join_query, average_idf)\n",
    "rank_bm_25 = sorted(enumerate(scores), key = lambda x: x[1], reverse = True) "
   ]
  },
  {
   "cell_type": "markdown",
   "metadata": {},
   "source": [
    "#### Revocação e precisão;"
   ]
  },
  {
   "cell_type": "code",
   "execution_count": 22,
   "metadata": {},
   "outputs": [
    {
     "data": {
      "text/plain": [
       "0.0"
      ]
     },
     "execution_count": 22,
     "metadata": {},
     "output_type": "execute_result"
    }
   ],
   "source": [
    "rev_precision(rank_bm_25)"
   ]
  },
  {
   "cell_type": "code",
   "execution_count": null,
   "metadata": {},
   "outputs": [],
   "source": []
  }
 ],
 "metadata": {
  "kernelspec": {
   "display_name": "Python 3",
   "language": "python",
   "name": "python3"
  },
  "language_info": {
   "codemirror_mode": {
    "name": "ipython",
    "version": 3
   },
   "file_extension": ".py",
   "mimetype": "text/x-python",
   "name": "python",
   "nbconvert_exporter": "python",
   "pygments_lexer": "ipython3",
   "version": "3.6.5"
  }
 },
 "nbformat": 4,
 "nbformat_minor": 2
}
