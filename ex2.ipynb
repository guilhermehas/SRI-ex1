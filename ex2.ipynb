{
 "cells": [
  {
   "cell_type": "code",
   "execution_count": 1,
   "metadata": {},
   "outputs": [],
   "source": [
    "from collections import defaultdict\n",
    "import nltk\n",
    "import os\n",
    "import numpy as np\n",
    "import matplotlib.pyplot as plt\n",
    "from nltk.corpus import machado, mac_morpho\n",
    "from nltk.tokenize import WordPunctTokenizer\n",
    "from nltk.corpus import stopwords\n",
    "import string\n",
    "from collections import defaultdict\n",
    "from nltk.stem.snowball import PortugueseStemmer\n",
    "import enchant\n",
    "from gensim import corpora, models, similarities"
   ]
  },
  {
   "cell_type": "code",
   "execution_count": 2,
   "metadata": {},
   "outputs": [],
   "source": [
    "textos = []\n",
    "for p, d, f in os.walk(r'machado/machado'):\n",
    "    #print( p,d,f)\n",
    "    if f:\n",
    "        for fileid  in f:\n",
    "            if not fileid.endswith('.txt'):\n",
    "                continue\n",
    "            with open(os.path.join(p,fileid), encoding='iso-8859-1') as g:\n",
    "                textos.append(g.read())"
   ]
  },
  {
   "cell_type": "code",
   "execution_count": 3,
   "metadata": {},
   "outputs": [],
   "source": [
    "swu = stopwords.words('portuguese') + list (string.punctuation)\n",
    "stemmer = PortugueseStemmer()"
   ]
  },
  {
   "cell_type": "code",
   "execution_count": 4,
   "metadata": {},
   "outputs": [],
   "source": [
    "#textos = textos[:4]"
   ]
  },
  {
   "cell_type": "code",
   "execution_count": 5,
   "metadata": {},
   "outputs": [],
   "source": [
    "def clean_sentence(texto : str):\n",
    "    return [stemmer.stem(token.lower()) for token in WordPunctTokenizer().tokenize(texto) if token not in swu]\n",
    "textos = [*map(clean_sentence,textos)]"
   ]
  },
  {
   "cell_type": "code",
   "execution_count": 6,
   "metadata": {},
   "outputs": [],
   "source": [
    "all_words = set()\n",
    "for text in textos:\n",
    "    all_words |= set(text)\n",
    "ordered_words = list(sorted(all_words))\n",
    "index_word = dict([(word,i) for i, word in enumerate(ordered_words)])"
   ]
  },
  {
   "cell_type": "code",
   "execution_count": 7,
   "metadata": {},
   "outputs": [],
   "source": [
    "matrix = [[0]*len(textos) for _ in range(len(all_words))]\n",
    "for i, document in enumerate(textos):\n",
    "    for word in document:\n",
    "        j = index_word[word]\n",
    "        matrix[j][i] += 1\n",
    "matrix = np.matrix(matrix)\n",
    "binary_matrix = (matrix >= 1)*1"
   ]
  },
  {
   "cell_type": "markdown",
   "metadata": {},
   "source": [
    "## Questão 1"
   ]
  },
  {
   "cell_type": "code",
   "execution_count": 8,
   "metadata": {},
   "outputs": [],
   "source": [
    "def frequency_from(word, matrix):\n",
    "    clean_word = clean_sentence(word)[0]\n",
    "    if clean_word not in index_word:\n",
    "        return [[0]*matrix.shape[1]]\n",
    "    word_index = index_word[clean_word]\n",
    "    \n",
    "    line = matrix[word_index]\n",
    "    return line/np.sum(line)\n",
    "\n",
    "def binary_frequency(word):\n",
    "    return frequency_from(word,binary_matrix)\n",
    "\n",
    "def word_frequency(word):\n",
    "    return frequency_from(word,matrix)"
   ]
  },
  {
   "cell_type": "code",
   "execution_count": 9,
   "metadata": {},
   "outputs": [
    {
     "data": {
      "text/plain": [
       "matrix([[0.00487805, 0.        , 0.        , 0.00487805, 0.00487805,\n",
       "         0.        , 0.        , 0.        , 0.00487805, 0.        ,\n",
       "         0.00487805, 0.00487805, 0.        , 0.00487805, 0.        ,\n",
       "         0.        , 0.00487805, 0.00487805, 0.        , 0.00487805,\n",
       "         0.00487805, 0.00487805, 0.00487805, 0.00487805, 0.        ,\n",
       "         0.00487805, 0.00487805, 0.        , 0.        , 0.00487805,\n",
       "         0.00487805, 0.00487805, 0.00487805, 0.        , 0.        ,\n",
       "         0.00487805, 0.        , 0.        , 0.00487805, 0.        ,\n",
       "         0.00487805, 0.        , 0.00487805, 0.00487805, 0.00487805,\n",
       "         0.        , 0.00487805, 0.00487805, 0.00487805, 0.00487805,\n",
       "         0.00487805, 0.00487805, 0.00487805, 0.00487805, 0.00487805,\n",
       "         0.00487805, 0.00487805, 0.00487805, 0.00487805, 0.00487805,\n",
       "         0.00487805, 0.00487805, 0.00487805, 0.00487805, 0.        ,\n",
       "         0.        , 0.00487805, 0.00487805, 0.00487805, 0.00487805,\n",
       "         0.00487805, 0.00487805, 0.00487805, 0.00487805, 0.00487805,\n",
       "         0.00487805, 0.00487805, 0.00487805, 0.00487805, 0.00487805,\n",
       "         0.00487805, 0.00487805, 0.00487805, 0.00487805, 0.00487805,\n",
       "         0.00487805, 0.00487805, 0.00487805, 0.00487805, 0.00487805,\n",
       "         0.00487805, 0.        , 0.00487805, 0.00487805, 0.00487805,\n",
       "         0.00487805, 0.00487805, 0.00487805, 0.00487805, 0.00487805,\n",
       "         0.00487805, 0.00487805, 0.00487805, 0.00487805, 0.00487805,\n",
       "         0.00487805, 0.00487805, 0.00487805, 0.00487805, 0.00487805,\n",
       "         0.00487805, 0.00487805, 0.00487805, 0.00487805, 0.00487805,\n",
       "         0.00487805, 0.00487805, 0.        , 0.00487805, 0.00487805,\n",
       "         0.        , 0.00487805, 0.        , 0.00487805, 0.00487805,\n",
       "         0.00487805, 0.00487805, 0.00487805, 0.00487805, 0.00487805,\n",
       "         0.00487805, 0.00487805, 0.        , 0.00487805, 0.00487805,\n",
       "         0.00487805, 0.00487805, 0.00487805, 0.00487805, 0.00487805,\n",
       "         0.00487805, 0.00487805, 0.00487805, 0.00487805, 0.00487805,\n",
       "         0.00487805, 0.00487805, 0.00487805, 0.00487805, 0.00487805,\n",
       "         0.00487805, 0.00487805, 0.00487805, 0.00487805, 0.00487805,\n",
       "         0.        , 0.00487805, 0.00487805, 0.        , 0.00487805,\n",
       "         0.00487805, 0.00487805, 0.00487805, 0.        , 0.00487805,\n",
       "         0.00487805, 0.00487805, 0.00487805, 0.00487805, 0.00487805,\n",
       "         0.00487805, 0.00487805, 0.00487805, 0.00487805, 0.00487805,\n",
       "         0.00487805, 0.00487805, 0.00487805, 0.00487805, 0.00487805,\n",
       "         0.00487805, 0.00487805, 0.00487805, 0.00487805, 0.00487805,\n",
       "         0.00487805, 0.00487805, 0.00487805, 0.00487805, 0.00487805,\n",
       "         0.00487805, 0.00487805, 0.        , 0.        , 0.00487805,\n",
       "         0.        , 0.        , 0.00487805, 0.00487805, 0.00487805,\n",
       "         0.00487805, 0.00487805, 0.00487805, 0.00487805, 0.00487805,\n",
       "         0.00487805, 0.00487805, 0.00487805, 0.00487805, 0.00487805,\n",
       "         0.00487805, 0.00487805, 0.00487805, 0.00487805, 0.00487805,\n",
       "         0.00487805, 0.00487805, 0.00487805, 0.00487805, 0.00487805,\n",
       "         0.00487805, 0.00487805, 0.00487805, 0.00487805, 0.00487805,\n",
       "         0.00487805, 0.00487805, 0.00487805, 0.00487805, 0.00487805,\n",
       "         0.00487805, 0.        , 0.00487805, 0.00487805, 0.        ,\n",
       "         0.00487805, 0.00487805, 0.00487805, 0.        , 0.00487805,\n",
       "         0.        , 0.00487805, 0.        , 0.        , 0.00487805,\n",
       "         0.        ]])"
      ]
     },
     "execution_count": 9,
     "metadata": {},
     "output_type": "execute_result"
    }
   ],
   "source": [
    "binary_frequency('agora')"
   ]
  },
  {
   "cell_type": "code",
   "execution_count": 10,
   "metadata": {},
   "outputs": [
    {
     "data": {
      "text/plain": [
       "matrix([[0.00070497, 0.        , 0.        , 0.00035249, 0.00140994,\n",
       "         0.        , 0.        , 0.        , 0.00035249, 0.        ,\n",
       "         0.00458231, 0.00105746, 0.        , 0.00035249, 0.        ,\n",
       "         0.        , 0.00070497, 0.00140994, 0.        , 0.00105746,\n",
       "         0.00140994, 0.00035249, 0.00035249, 0.00035249, 0.        ,\n",
       "         0.00035249, 0.00070497, 0.        , 0.        , 0.00035249,\n",
       "         0.00035249, 0.00387734, 0.00105746, 0.        , 0.        ,\n",
       "         0.00845964, 0.        , 0.        , 0.00140994, 0.        ,\n",
       "         0.00035249, 0.        , 0.00105746, 0.00176243, 0.00035249,\n",
       "         0.        , 0.00035249, 0.0024674 , 0.00035249, 0.00105746,\n",
       "         0.00070497, 0.00070497, 0.01762425, 0.0024674 , 0.00281988,\n",
       "         0.0024674 , 0.00669722, 0.00352485, 0.00035249, 0.00281988,\n",
       "         0.00070497, 0.00317237, 0.00176243, 0.00105746, 0.        ,\n",
       "         0.        , 0.02220656, 0.00140994, 0.00387734, 0.00387734,\n",
       "         0.00176243, 0.00035249, 0.00211491, 0.00352485, 0.00317237,\n",
       "         0.00176243, 0.00105746, 0.00458231, 0.00352485, 0.00035249,\n",
       "         0.00105746, 0.00105746, 0.00070497, 0.00035249, 0.00035249,\n",
       "         0.00387734, 0.00176243, 0.00211491, 0.00035249, 0.00140994,\n",
       "         0.00070497, 0.        , 0.0024674 , 0.00352485, 0.00035249,\n",
       "         0.00070497, 0.00105746, 0.00281988, 0.00070497, 0.00176243,\n",
       "         0.00458231, 0.00035249, 0.00140994, 0.00070497, 0.00317237,\n",
       "         0.00140994, 0.00140994, 0.00281988, 0.00105746, 0.00105746,\n",
       "         0.00035249, 0.00070497, 0.0024674 , 0.00211491, 0.00176243,\n",
       "         0.00176243, 0.02009165, 0.        , 0.00211491, 0.0024674 ,\n",
       "         0.        , 0.00176243, 0.        , 0.00105746, 0.01550934,\n",
       "         0.00105746, 0.00070497, 0.00176243, 0.00105746, 0.0024674 ,\n",
       "         0.00176243, 0.00281988, 0.        , 0.00176243, 0.00986958,\n",
       "         0.00317237, 0.0024674 , 0.00070497, 0.00070497, 0.00211491,\n",
       "         0.00070497, 0.00105746, 0.00317237, 0.00176243, 0.00035249,\n",
       "         0.00352485, 0.0024674 , 0.0024674 , 0.00176243, 0.00176243,\n",
       "         0.00070497, 0.00458231, 0.00105746, 0.0024674 , 0.00140994,\n",
       "         0.        , 0.00352485, 0.00105746, 0.        , 0.00528728,\n",
       "         0.00176243, 0.00140994, 0.00176243, 0.        , 0.00140994,\n",
       "         0.00281988, 0.00387734, 0.00105746, 0.00070497, 0.00176243,\n",
       "         0.00105746, 0.00211491, 0.00105746, 0.00176243, 0.00035249,\n",
       "         0.00140994, 0.01515686, 0.00035249, 0.00317237, 0.00035249,\n",
       "         0.00140994, 0.01586183, 0.01127952, 0.0024674 , 0.00528728,\n",
       "         0.0140994 , 0.00281988, 0.00422982, 0.00317237, 0.00035249,\n",
       "         0.00140994, 0.00035249, 0.        , 0.        , 0.00035249,\n",
       "         0.        , 0.        , 0.00035249, 0.00035249, 0.04124075,\n",
       "         0.01163201, 0.01832922, 0.04441311, 0.01198449, 0.0422982 ,\n",
       "         0.01762425, 0.02749383, 0.05146281, 0.01515686, 0.01762425,\n",
       "         0.02326401, 0.00281988, 0.00176243, 0.00634473, 0.00317237,\n",
       "         0.00317237, 0.00387734, 0.00070497, 0.00317237, 0.00669722,\n",
       "         0.00458231, 0.00176243, 0.00035249, 0.00810716, 0.01621431,\n",
       "         0.00140994, 0.00845964, 0.00493479, 0.00281988, 0.00035249,\n",
       "         0.02784632, 0.        , 0.11702503, 0.00176243, 0.        ,\n",
       "         0.0165668 , 0.0070497 , 0.00140994, 0.        , 0.00458231,\n",
       "         0.        , 0.00493479, 0.        , 0.        , 0.00035249,\n",
       "         0.        ]])"
      ]
     },
     "execution_count": 10,
     "metadata": {},
     "output_type": "execute_result"
    }
   ],
   "source": [
    "word_frequency('agora')"
   ]
  },
  {
   "cell_type": "code",
   "execution_count": 11,
   "metadata": {},
   "outputs": [],
   "source": [
    "def tfdf(word):\n",
    "    clean_word = clean_sentence(word)[0]\n",
    "    if clean_word not in index_word:\n",
    "        return [[0]*matrix.shape[1]]\n",
    "    word_index = index_word[clean_word]\n",
    "    line = matrix[word_index]\n",
    "    quantity_words_per_doc = matrix.sum(axis=0)\n",
    "    tf = line/quantity_words_per_doc\n",
    "    \n",
    "    freq_word = ((tf > 0)*1).sum()\n",
    "    assert freq_word > 0\n",
    "    df = np.log(matrix.shape[1]/freq_word)\n",
    "    assert df >= 0\n",
    "    return tf*df"
   ]
  },
  {
   "cell_type": "code",
   "execution_count": 12,
   "metadata": {},
   "outputs": [
    {
     "data": {
      "text/plain": [
       "matrix([[5.87186978e-04, 0.00000000e+00, 0.00000000e+00, 1.67729123e-04,\n",
       "         1.03152224e-03, 0.00000000e+00, 0.00000000e+00, 0.00000000e+00,\n",
       "         1.14956845e-04, 0.00000000e+00, 2.77766347e-04, 5.72138777e-04,\n",
       "         0.00000000e+00, 3.61749121e-04, 0.00000000e+00, 0.00000000e+00,\n",
       "         8.53965137e-04, 2.14559055e-04, 0.00000000e+00, 1.26612192e-03,\n",
       "         2.19202353e-04, 1.10097558e-04, 3.88745324e-04, 3.95491446e-04,\n",
       "         0.00000000e+00, 3.61749121e-04, 3.92384713e-05, 0.00000000e+00,\n",
       "         0.00000000e+00, 1.40571748e-04, 3.01357945e-04, 1.08771945e-04,\n",
       "         1.85663500e-04, 0.00000000e+00, 0.00000000e+00, 2.90783982e-04,\n",
       "         0.00000000e+00, 0.00000000e+00, 7.97906157e-04, 0.00000000e+00,\n",
       "         1.64550142e-04, 0.00000000e+00, 2.18961037e-04, 2.73838325e-04,\n",
       "         1.75140785e-04, 0.00000000e+00, 1.00231752e-04, 4.51930205e-04,\n",
       "         3.05908652e-04, 1.35387295e-04, 3.93783060e-04, 1.28124776e-04,\n",
       "         3.56194187e-04, 3.43724993e-04, 3.07326687e-04, 4.18031738e-04,\n",
       "         4.18674109e-04, 3.01457601e-04, 1.39603030e-04, 6.48254424e-04,\n",
       "         4.18648810e-04, 3.30159761e-04, 2.85949744e-04, 2.05086116e-04,\n",
       "         0.00000000e+00, 0.00000000e+00, 3.38987666e-04, 1.75689286e-04,\n",
       "         5.99921365e-04, 3.82444150e-04, 5.33728211e-04, 1.82504061e-04,\n",
       "         2.74167755e-04, 4.37221959e-04, 7.17173956e-04, 9.58578111e-04,\n",
       "         1.59557955e-04, 6.75457463e-04, 2.58905931e-04, 6.19509197e-05,\n",
       "         2.80207311e-04, 6.80304316e-04, 6.62626047e-05, 1.42105656e-04,\n",
       "         6.55361455e-05, 2.57516323e-04, 2.14344647e-04, 1.11398100e-03,\n",
       "         2.73345662e-04, 2.14369849e-04, 3.12729943e-04, 0.00000000e+00,\n",
       "         3.78709465e-04, 7.42956629e-04, 8.28734349e-05, 2.12743940e-04,\n",
       "         3.11660781e-04, 3.14754522e-04, 3.44979294e-04, 1.85173224e-04,\n",
       "         4.85096242e-04, 5.90993701e-05, 3.24993862e-04, 1.91112743e-04,\n",
       "         4.36407982e-04, 3.06037024e-04, 3.91457986e-04, 2.99255735e-04,\n",
       "         1.39283084e-04, 1.43900203e-04, 2.43095409e-04, 1.00535736e-04,\n",
       "         4.31457369e-04, 4.82119586e-04, 3.12622697e-04, 2.93688075e-04,\n",
       "         3.84459648e-04, 0.00000000e+00, 3.73865120e-04, 4.09842934e-04,\n",
       "         0.00000000e+00, 2.80236023e-04, 0.00000000e+00, 3.11838467e-04,\n",
       "         2.60789587e-04, 2.18436370e-04, 1.74553908e-04, 1.83754845e-04,\n",
       "         5.58127215e-04, 3.52847912e-04, 3.08914871e-04, 2.96819791e-04,\n",
       "         0.00000000e+00, 2.33565920e-04, 3.72003468e-04, 3.63431675e-04,\n",
       "         3.08795281e-04, 1.19203372e-04, 2.06129516e-04, 4.61768400e-04,\n",
       "         7.68964811e-05, 1.38999916e-04, 1.22454777e-03, 6.53482282e-04,\n",
       "         2.91248493e-04, 7.75506409e-04, 3.13883644e-04, 2.81857530e-04,\n",
       "         3.99127751e-04, 3.76231029e-04, 1.50182501e-04, 2.35347060e-04,\n",
       "         1.72380924e-04, 3.42893847e-04, 3.32551859e-04, 0.00000000e+00,\n",
       "         5.64288322e-04, 1.53814587e-04, 0.00000000e+00, 2.86639068e-04,\n",
       "         4.03187874e-04, 3.67213609e-04, 2.11952519e-04, 0.00000000e+00,\n",
       "         2.55889904e-04, 2.89399296e-04, 2.82868424e-04, 4.22040641e-04,\n",
       "         1.82778503e-04, 3.73762929e-04, 1.58219459e-04, 3.21082871e-04,\n",
       "         1.58816687e-04, 8.48796819e-04, 3.17633374e-04, 4.95775817e-04,\n",
       "         4.37685738e-04, 2.25925101e-04, 5.78390557e-04, 5.26484426e-05,\n",
       "         1.40952112e-04, 2.31170439e-04, 3.84112833e-04, 1.01717614e-04,\n",
       "         2.16157394e-04, 4.19757239e-04, 1.62805275e-04, 1.76326457e-04,\n",
       "         3.14769617e-04, 2.78779139e-04, 1.20942990e-03, 4.73562485e-04,\n",
       "         0.00000000e+00, 0.00000000e+00, 4.32041604e-04, 0.00000000e+00,\n",
       "         0.00000000e+00, 2.07655532e-04, 2.48733365e-04, 7.14029193e-04,\n",
       "         2.70373045e-04, 2.75170400e-04, 5.24223362e-04, 4.66015105e-04,\n",
       "         4.51598382e-04, 2.63874659e-04, 3.85061232e-04, 6.71246401e-04,\n",
       "         3.73716605e-04, 2.40739373e-04, 1.62312814e-04, 2.18939126e-04,\n",
       "         1.68441941e-04, 7.63206517e-04, 5.50450859e-04, 2.56630280e-04,\n",
       "         2.50504262e-04, 7.74189201e-05, 4.71115134e-04, 6.76451783e-04,\n",
       "         5.91362335e-04, 8.46432483e-04, 5.55858405e-04, 4.23618124e-04,\n",
       "         6.33970188e-04, 3.39835148e-04, 3.36154057e-04, 1.98283368e-04,\n",
       "         5.79258322e-04, 4.43604761e-04, 3.01597734e-04, 0.00000000e+00,\n",
       "         3.72352607e-04, 2.47383388e-04, 0.00000000e+00, 4.26493787e-04,\n",
       "         2.94875557e-04, 5.24666350e-04, 0.00000000e+00, 3.42214877e-04,\n",
       "         0.00000000e+00, 2.21398369e-04, 0.00000000e+00, 0.00000000e+00,\n",
       "         5.31704744e-05, 0.00000000e+00]])"
      ]
     },
     "execution_count": 12,
     "metadata": {},
     "output_type": "execute_result"
    }
   ],
   "source": [
    "tfdf('agora')"
   ]
  },
  {
   "cell_type": "markdown",
   "metadata": {},
   "source": [
    "## Questão 2"
   ]
  },
  {
   "cell_type": "code",
   "execution_count": 13,
   "metadata": {},
   "outputs": [],
   "source": [
    "def get_normalized(matrix):\n",
    "    squared_matrix = np.square(matrix)\n",
    "    sum_rows = squared_matrix.sum(axis=0)\n",
    "    matrix_sum_one = np.multiply(squared_matrix,1/sum_rows)\n",
    "    normalized_matrix = np.power(matrix_sum_one,0.5)\n",
    "    return normalized_matrix"
   ]
  },
  {
   "cell_type": "code",
   "execution_count": 14,
   "metadata": {},
   "outputs": [
    {
     "data": {
      "text/plain": [
       "matrix([[0.        , 0.        , 0.        , ..., 0.        , 0.        ,\n",
       "         0.        ],\n",
       "        [0.        , 0.        , 0.        , ..., 0.        , 0.        ,\n",
       "         0.        ],\n",
       "        [0.        , 0.        , 0.        , ..., 0.        , 0.        ,\n",
       "         0.        ],\n",
       "        ...,\n",
       "        [0.        , 0.        , 0.        , ..., 0.        , 0.        ,\n",
       "         0.07559289],\n",
       "        [0.        , 0.        , 0.        , ..., 0.        , 0.        ,\n",
       "         0.00498897],\n",
       "        [0.        , 0.        , 0.        , ..., 0.        , 0.        ,\n",
       "         0.        ]])"
      ]
     },
     "execution_count": 14,
     "metadata": {},
     "output_type": "execute_result"
    }
   ],
   "source": [
    "normalized_matrix = get_normalized(matrix).T\n",
    "normalized_matrix"
   ]
  },
  {
   "cell_type": "code",
   "execution_count": 15,
   "metadata": {},
   "outputs": [],
   "source": [
    "def get_cosseno_matrix(matrix):\n",
    "    nlines = matrix.shape[0]\n",
    "    cos_matrix = np.zeros([nlines]*2)\n",
    "    for i, line_i in enumerate(matrix):\n",
    "        for j, line_j in enumerate(matrix):\n",
    "            cos_matrix[i,j] = (line_i*line_j.T)[0,0]\n",
    "    return cos_matrix"
   ]
  },
  {
   "cell_type": "code",
   "execution_count": 16,
   "metadata": {},
   "outputs": [
    {
     "data": {
      "text/plain": [
       "array([[1.        , 0.33544192, 0.50979749, ..., 0.16679019, 0.47755143,\n",
       "        0.18965178],\n",
       "       [0.33544192, 1.        , 0.30318621, ..., 0.17178234, 0.27174403,\n",
       "        0.13157763],\n",
       "       [0.50979749, 0.30318621, 1.        , ..., 0.22219682, 0.5737497 ,\n",
       "        0.26549094],\n",
       "       ...,\n",
       "       [0.16679019, 0.17178234, 0.22219682, ..., 1.        , 0.18592558,\n",
       "        0.22345168],\n",
       "       [0.47755143, 0.27174403, 0.5737497 , ..., 0.18592558, 1.        ,\n",
       "        0.23349966],\n",
       "       [0.18965178, 0.13157763, 0.26549094, ..., 0.22345168, 0.23349966,\n",
       "        1.        ]])"
      ]
     },
     "execution_count": 16,
     "metadata": {},
     "output_type": "execute_result"
    }
   ],
   "source": [
    "cos_matrix = get_cosseno_matrix(normalized_matrix)\n",
    "cos_matrix"
   ]
  },
  {
   "cell_type": "code",
   "execution_count": 17,
   "metadata": {},
   "outputs": [
    {
     "data": {
      "image/png": "[encoded data removed]",
      "text/plain": [
       "<Figure size 432x288 with 1 Axes>"
      ]
     },
     "metadata": {},
     "output_type": "display_data"
    }
   ],
   "source": [
    "plt.hist(cos_matrix, bins='auto');"
   ]
  },
  {
   "cell_type": "markdown",
   "metadata": {},
   "source": [
    "## Questão 3"
   ]
  },
  {
   "cell_type": "code",
   "execution_count": 18,
   "metadata": {},
   "outputs": [
    {
     "data": {
      "text/plain": [
       "<gensim.corpora.dictionary.Dictionary at 0x7fb8e1031080>"
      ]
     },
     "execution_count": 18,
     "metadata": {},
     "output_type": "execute_result"
    }
   ],
   "source": [
    "dicionario = corpora.Dictionary(textos)\n",
    "dicionario.save('vocabulario.dict')\n",
    "dicionario"
   ]
  },
  {
   "cell_type": "code",
   "execution_count": 19,
   "metadata": {},
   "outputs": [],
   "source": [
    "corpus = [dicionario.doc2bow(d) for d in textos]\n",
    "corpora.MmCorpus.serialize('machado.mm', corpus)"
   ]
  },
  {
   "cell_type": "code",
   "execution_count": null,
   "metadata": {},
   "outputs": [],
   "source": []
  },
  {
   "cell_type": "markdown",
   "metadata": {},
   "source": [
    "## Questão 4"
   ]
  },
  {
   "cell_type": "code",
   "execution_count": 20,
   "metadata": {},
   "outputs": [
    {
     "name": "stderr",
     "output_type": "stream",
     "text": [
      "/usr/local/lib/python3.6/dist-packages/gensim/matutils.py:737: FutureWarning: Conversion of the second argument of issubdtype from `int` to `np.signedinteger` is deprecated. In future, it will be treated as `np.int64 == np.dtype(int).type`.\n",
      "  if np.issubdtype(vec.dtype, np.int):\n"
     ]
    }
   ],
   "source": [
    "lsi = models.LsiModel(corpus, id2word=dicionario, num_topics=4)\n",
    "index = similarities.MatrixSimilarity(lsi[corpus])"
   ]
  },
  {
   "cell_type": "code",
   "execution_count": 21,
   "metadata": {},
   "outputs": [],
   "source": [
    "sentence = \"joao agora aqui\""
   ]
  },
  {
   "cell_type": "code",
   "execution_count": 22,
   "metadata": {},
   "outputs": [
    {
     "name": "stdout",
     "output_type": "stream",
     "text": [
      "['joa', 'agor', 'aqu']\n"
     ]
    },
    {
     "data": {
      "text/plain": [
       "[(0, 0.09771021547524841),\n",
       " (1, 0.0182218721601668),\n",
       " (2, -0.0397138303567581),\n",
       " (3, 0.08763129569674619)]"
      ]
     },
     "execution_count": 22,
     "metadata": {},
     "output_type": "execute_result"
    }
   ],
   "source": [
    "qt = [stemmer.stem(t) for t in WordPunctTokenizer().tokenize(sentence.lower())]\n",
    "print(qt)\n",
    "vec_bow = dicionario.doc2bow(qt)\n",
    "vec_lsi = lsi[vec_bow] # convert the query to LSI space   \n",
    "vec_lsi "
   ]
  },
  {
   "cell_type": "code",
   "execution_count": 23,
   "metadata": {},
   "outputs": [
    {
     "name": "stdout",
     "output_type": "stream",
     "text": [
      "[(37, 0.859715), (218, 0.85425663), (0, 0.8489985), (2, 0.8213985), (214, 0.8190739), (24, 0.81329936), (4, 0.8097189), (91, 0.80959386), (242, 0.8066619), (167, 0.80366856), (216, 0.8013319), (235, 0.7996676), (38, 0.79866517), (222, 0.7966467), (238, 0.79510665), (224, 0.79510593), (194, 0.7937019), (42, 0.7923105), (245, 0.791103), (225, 0.7908949), (30, 0.7895625), (232, 0.789495), (10, 0.7882432), (223, 0.7806411), (12, 0.7798948), (18, 0.7790223), (16, 0.77499104), (14, 0.77158034), (39, 0.7713184), (20, 0.76688147), (237, 0.7644795), (9, 0.76427156), (236, 0.761921), (233, 0.7611578), (212, 0.75837165), (174, 0.75717306), (191, 0.75607747), (197, 0.74866474), (40, 0.7484259), (192, 0.7482992), (11, 0.7453467), (23, 0.74485576), (228, 0.7437147), (196, 0.7428222), (6, 0.7410977), (43, 0.74047536), (143, 0.7387938), (44, 0.73797464), (21, 0.7371565), (90, 0.7343709), (27, 0.7335262), (241, 0.73300177), (19, 0.7312619), (230, 0.7304251), (7, 0.7303218), (13, 0.72561705), (213, 0.724621), (190, 0.7245561), (199, 0.72234434), (29, 0.7218499), (239, 0.7188414), (5, 0.718764), (226, 0.71793765), (229, 0.7174697), (234, 0.7172685), (34, 0.717006), (36, 0.7164391), (182, 0.71620256), (26, 0.7155273), (31, 0.7127372), (244, 0.7116871), (15, 0.7095867), (145, 0.70634633), (25, 0.70566946), (8, 0.70429856), (41, 0.7002988), (128, 0.6975224), (207, 0.68839324), (106, 0.68793327), (32, 0.6858379), (22, 0.68347114), (50, 0.67681503), (227, 0.6759555), (202, 0.6744642), (110, 0.6701199), (193, 0.6693164), (173, 0.6692339), (1, 0.6667103), (28, 0.66563654), (33, 0.6635823), (189, 0.6614729), (154, 0.65905297), (113, 0.6549953), (124, 0.6541901), (177, 0.6538938), (3, 0.6530156), (122, 0.65278023), (48, 0.65273505), (170, 0.6508931), (71, 0.6489744), (87, 0.64747334), (206, 0.64660686), (17, 0.64351827), (131, 0.6432612), (125, 0.642982), (134, 0.64112836), (35, 0.64098525), (75, 0.6370133), (83, 0.6342427), (240, 0.63164604), (160, 0.62544525), (70, 0.62305135), (80, 0.6209313), (149, 0.6177846), (161, 0.61610913), (88, 0.6137473), (243, 0.6125807), (66, 0.61212796), (179, 0.61121655), (60, 0.6111148), (137, 0.6080634), (176, 0.60794914), (231, 0.6079472), (158, 0.6076638), (142, 0.6041213), (74, 0.60401726), (116, 0.60356444), (45, 0.6032625), (81, 0.60318357), (130, 0.6006121), (89, 0.5995112), (69, 0.5953648), (203, 0.5949536), (139, 0.594334), (84, 0.5927521), (76, 0.59210795), (117, 0.5919653), (129, 0.5873449), (61, 0.5842601), (135, 0.5834336), (178, 0.5829625), (195, 0.58000004), (93, 0.57976264), (156, 0.57472235), (103, 0.5735654), (155, 0.572326), (168, 0.5719669), (148, 0.5705948), (98, 0.56776154), (101, 0.5670167), (51, 0.5653477), (96, 0.56482506), (204, 0.5634477), (152, 0.56193686), (95, 0.56166935), (144, 0.5614436), (165, 0.55643475), (118, 0.55548066), (157, 0.5534484), (79, 0.55209464), (63, 0.55202603), (102, 0.5465294), (115, 0.5453849), (123, 0.5428929), (183, 0.5422599), (62, 0.54099554), (188, 0.53847384), (97, 0.53820044), (82, 0.5376868), (140, 0.5376002), (126, 0.53406626), (53, 0.53206736), (147, 0.5320416), (159, 0.5319958), (104, 0.5300384), (64, 0.5287639), (181, 0.52774835), (180, 0.52586263), (58, 0.5241203), (55, 0.522875), (49, 0.52117896), (208, 0.5193615), (175, 0.51858336), (57, 0.51649535), (138, 0.5140345), (67, 0.5086446), (198, 0.5055233), (150, 0.5051609), (52, 0.50350523), (114, 0.50350076), (162, 0.5033253), (153, 0.50160563), (46, 0.5000463), (92, 0.49992058), (172, 0.498841), (186, 0.49879852), (121, 0.49838263), (94, 0.49774987), (73, 0.4941753), (47, 0.49362436), (185, 0.49267), (166, 0.48943424), (107, 0.48925838), (169, 0.48732254), (65, 0.48683694), (119, 0.4859504), (109, 0.48513728), (141, 0.48450685), (54, 0.48216295), (77, 0.4819647), (127, 0.4818913), (187, 0.48101985), (201, 0.4767565), (86, 0.47289908), (111, 0.4701481), (151, 0.4680581), (56, 0.46606073), (105, 0.46528623), (68, 0.4631132), (146, 0.4591835), (108, 0.45888877), (163, 0.45854855), (136, 0.45810872), (100, 0.4550941), (133, 0.44910738), (132, 0.44901133), (184, 0.44871396), (205, 0.44868058), (78, 0.44796532), (59, 0.4303218), (99, 0.4302274), (200, 0.42784813), (72, 0.42338225), (120, 0.4222208), (85, 0.42221916), (164, 0.42132586), (171, 0.41301072), (112, 0.4036048), (219, 0.38678434), (215, 0.33551982), (220, 0.32823405), (211, 0.31538373), (221, 0.28059572), (217, 0.2728975), (210, 0.2213028), (209, 0.17756404)]\n"
     ]
    }
   ],
   "source": [
    "sims = index[vec_lsi] # perform a similarity query against the corpus\n",
    "# print(list(enumerate(sims))) # print (document_number, document_similarity) 2-tuples\n",
    "sims = sorted(enumerate(sims), key=lambda item: -item[1])\n",
    "print(sims) "
   ]
  },
  {
   "cell_type": "code",
   "execution_count": 24,
   "metadata": {},
   "outputs": [
    {
     "data": {
      "text/plain": [
       "[(0,\n",
       "  '0.493*\"é\" + 0.300*\"\\x97\" + 0.212*\"outr\" + 0.177*\"a\" + 0.171*\"nã\" + 0.160*\"o\" + 0.147*\"tod\" + 0.147*\"pod\" + 0.122*\"cas\" + 0.114*\"diz\"'),\n",
       " (1,\n",
       "  '-0.898*\"--\" + 0.218*\"\\x97\" + -0.183*\"diss\" + -0.135*\"oliv\" + 0.114*\"é\" + -0.104*\"sr\" + -0.053*\"jud\" + -0.048*\"sik\" + -0.047*\"respond\" + -0.045*\"bumbl\"'),\n",
       " (2,\n",
       "  '0.701*\"\\x97\" + -0.423*\"é\" + 0.161*\"diss\" + 0.158*\"...\" + 0.108*\"mar\" + 0.101*\"rubiã\" + 0.095*\"capítul\" + 0.094*\"cas\" + -0.089*\"\\x93\" + 0.084*\"mã\"'),\n",
       " (3,\n",
       "  '-0.402*\"gilliatt\" + -0.347*\"o\" + -0.251*\"a\" + -0.205*\"mar\" + 0.167*\"...\" + -0.154*\"águ\" + -0.150*\"lethierry\" + -0.141*\"vent\" + 0.115*\"outr\" + -0.115*\"clubin\"')]"
      ]
     },
     "execution_count": 24,
     "metadata": {},
     "output_type": "execute_result"
    }
   ],
   "source": [
    "lsi.show_topics() "
   ]
  },
  {
   "cell_type": "code",
   "execution_count": null,
   "metadata": {},
   "outputs": [],
   "source": []
  }
 ],
 "metadata": {
  "kernelspec": {
   "display_name": "Python 3",
   "language": "python",
   "name": "python3"
  },
  "language_info": {
   "codemirror_mode": {
    "name": "ipython",
    "version": 3
   },
   "file_extension": ".py",
   "mimetype": "text/x-python",
   "name": "python",
   "nbconvert_exporter": "python",
   "pygments_lexer": "ipython3",
   "version": "3.6.5"
  }
 },
 "nbformat": 4,
 "nbformat_minor": 2
}
